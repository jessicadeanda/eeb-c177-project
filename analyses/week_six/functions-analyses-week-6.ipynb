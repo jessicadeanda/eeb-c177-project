{
 "cells": [
  {
   "cell_type": "markdown",
   "metadata": {},
   "source": [
    "# Part 1"
   ]
  },
  {
   "cell_type": "markdown",
   "metadata": {},
   "source": [
    "## Extraction Function"
   ]
  },
  {
   "cell_type": "code",
   "execution_count": 170,
   "metadata": {},
   "outputs": [],
   "source": [
    "# importing needed modules\n",
    "\n",
    "import pandas\n",
    "import numpy\n",
    "import matplotlib.pyplot as plt\n",
    "import csv\n",
    "\n",
    "# define function that will take csv file and change it to a numpy array\n",
    "# uses both the pandas module\n",
    "# takes argument of the csv file in question\n",
    "\n",
    "def numpydata_from_csv(csv_file):\n",
    "    tmp_data = pandas.read_csv(csv_file, header =None) \n",
    "    data = tmp_data.to_numpy()\n",
    "    return data"
   ]
  },
  {
   "cell_type": "markdown",
   "metadata": {},
   "source": [
    "## Analysis Functions"
   ]
  },
  {
   "cell_type": "code",
   "execution_count": 171,
   "metadata": {},
   "outputs": [],
   "source": [
    "# define functions that will take raw data output useful, post analysis information\n",
    "\n",
    "# define a function that will output the percentage of a certain race that lives at least a half mile away\n",
    "# from a supermarket\n",
    "# the function takes inputs, in the order, the data, the column in the data that is the total number of a\n",
    "# certain race, and the column in the data that is the total number of a race living at least 1/2 mile away\n",
    "# from a supermarket\n",
    "\n",
    "def race_half_mile_percent(input_data, total_number_column, past_half_mile_column):\n",
    "    race_half_mile_total = numpy.sum(input_data[0:,past_half_mile_column])\n",
    "    race_total = numpy.sum(input_data[0:,total_number_column])\n",
    "    percentage = race_half_mile_total/race_total*100\n",
    "    return percentage\n",
    "\n",
    "# define a function that has similar functionality to the one above\n",
    "# this function determines the percentage of a race that lives at least one mile away from a supermarket\n",
    "# pass this function the column of the one mile away data instead of the 1/2 mile away data\n",
    "\n",
    "def race_one_mile_percent(input_data, total_number_column, past_one_mile_column):\n",
    "    race_one_mile_total = numpy.sum(input_data[0:,past_one_mile_column])\n",
    "    race_total = numpy.sum(input_data[0:,total_number_column])\n",
    "    percentage = race_one_mile_total/race_total*100\n",
    "    return percentage\n",
    "\n",
    "# define a function that has similar functionality to the one above\n",
    "# this function determines the percentage of a race that lives at least ten miles away from a supermarket\n",
    "# pass this function the column of the one mile away data instead of the one mile away data\n",
    "\n",
    "def race_ten_mile_percent(input_data, total_number_column, past_ten_mile_column):\n",
    "    race_ten_mile_total = numpy.sum(input_data[0:,past_ten_mile_column])\n",
    "    race_total = numpy.sum(input_data[0:,total_number_column])\n",
    "    percentage = race_ten_mile_total/race_total*100\n",
    "    return percentage"
   ]
  },
  {
   "cell_type": "markdown",
   "metadata": {},
   "source": [
    "## Visualization Function"
   ]
  },
  {
   "cell_type": "code",
   "execution_count": 172,
   "metadata": {},
   "outputs": [],
   "source": [
    "# define function to plot data\n",
    "# the function takes input of, in order, the race name, the race's half mile percentage, the race's one mile\n",
    "# percentage, and the race's ten mile percentage\n",
    "# these inputs can be easily generated using the analysis functions\n",
    "\n",
    "def plot_race_percentage_versus_distance(name, half, one, ten):\n",
    "    plt.plot([0.5, 1, 10],[half, one, ten])\n",
    "    plt.axis([0, 12, 0, 100])\n",
    "    plt.xlabel('Distance from Supermarket (Miles)')\n",
    "    plt.ylabel('Percentage')\n",
    "    plt.title('Percentage of %s Race Living at a Distance From Supermarket' % name)\n",
    "    plt.show()\n",
    "    return"
   ]
  },
  {
   "cell_type": "markdown",
   "metadata": {},
   "source": [
    "## Using Functions to Extract, Analyze, and Visualize Data"
   ]
  },
  {
   "cell_type": "code",
   "execution_count": 173,
   "metadata": {},
   "outputs": [
    {
     "data": {
      "image/png": "[encoded data removed]",
      "text/plain": [
       "<Figure size 432x288 with 1 Axes>"
      ]
     },
     "metadata": {
      "needs_background": "light"
     },
     "output_type": "display_data"
    }
   ],
   "source": [
    "# declare a variable \"data\" that will use numpydata_from_csv and extract raw data so we can analyse it\n",
    "\n",
    "data = numpydata_from_csv('food_access_data.csv')\n",
    "\n",
    "# use analysis functions with proper inputs from raw data so that we have useful data to visualize\n",
    "\n",
    "white_half_percent = race_half_mile_percent(data, 34, 5)\n",
    "white_one_percent = race_one_mile_percent(data, 34, 15)\n",
    "white_ten_percent = race_ten_mile_percent(data, 34, 25)\n",
    "\n",
    "# use visualization function to plot data and inspect\n",
    "\n",
    "plot_race_percentage_versus_distance('White', white_half_percent, white_one_percent, white_ten_percent)"
   ]
  },
  {
   "cell_type": "markdown",
   "metadata": {},
   "source": [
    "# Part 2"
   ]
  },
  {
   "cell_type": "code",
   "execution_count": 176,
   "metadata": {},
   "outputs": [
    {
     "name": "stdout",
     "output_type": "stream",
     "text": [
      "Assuming that the first row in our data will be a key for the entire column's values \n",
      "we have 72863 occurances of values to a key.\n",
      "\n",
      "This makes sense because we have 72864 rows, with the first row being keys \n",
      "and all the subsequent rows being values to the keys.\n",
      "\n",
      "The total white population in my data according to DictReader is 223553265.\n",
      "\n",
      "The total white population in my data according to numpy's sum function \n",
      "is 223553265.\n",
      "\n"
     ]
    }
   ],
   "source": [
    "# we use the open function to open our data csv and then use csv.DictReader to get an ordered dictionary\n",
    "# we iterate our dictionary in order to find how many occurances we have of a given key having values assigned\n",
    "\n",
    "with open('food_access_data.csv', mode = 'r', encoding = 'utf-8-sig') as csvfile:\n",
    "    reader = csv.DictReader(csvfile)\n",
    "    occurances = 0\n",
    "    for row in reader:\n",
    "        occurances = occurances + 1\n",
    "    print(\"Assuming that the first row in our data will be a key for the entire column's values \")\n",
    "    print('we have {} occurances of values to a key.\\n'.format(occurances))\n",
    "    print('This makes sense because we have {} rows, with the first row being keys '.format(occurances+1))\n",
    "    print('and all the subsequent rows being values to the keys.\\n')\n",
    "        \n",
    "# now we do some analysis using the DictReader function\n",
    "# we use DictReader to make an ordered dictionary and now add up the values for a given key\n",
    "# for our data, this will give us the total polled population of a race\n",
    "# in this specific code, I have to use the key 1622 because the original csv does not have headings\n",
    "# it goes straight into the data. The column that is headed by 1622 is the white population for each sample\n",
    "\n",
    "with open('food_access_data.csv', mode = 'r', encoding = 'utf-8-sig') as csvfile:\n",
    "    reader = csv.DictReader(csvfile)\n",
    "    total_white = 1622\n",
    "    for row in reader:\n",
    "        total_white = total_white + int(row['1622'])\n",
    "    print('The total white population in my data according to DictReader is {}.\\n'.format(total_white))\n",
    "    \n",
    "# I will compare my results from my use DictReader with my use of numpy's built in functions\n",
    "\n",
    "print(\"The total white population in my data according to numpy's sum function \")\n",
    "print('is {:0.0f}.\\n'.format(numpy.sum(data[0:,34])))"
   ]
  },
  {
   "cell_type": "markdown",
   "metadata": {},
   "source": [
    "# Part 3"
   ]
  },
  {
   "cell_type": "code",
   "execution_count": 175,
   "metadata": {},
   "outputs": [],
   "source": [
    "# declare a variable output_file and open a file with read and write capabilites\n",
    "\n",
    "output_file = open('output_f1.txt','w+')\n",
    "\n",
    "# now we write to the file the data that we got from extraction and analysis functions and from DictReader\n",
    "# format the written content using the format() function\n",
    "\n",
    "# the use of {} in the below line signals the place where the data from format() goes\n",
    "# in our case we are filling {} with the total number of white people polled that we got from using DictReader\n",
    "\n",
    "output_file.write('The total number of white people that are in my sample is {}.\\n'.format(total_white))\n",
    "\n",
    "# our use of {:0.2f} below is another, more detailed way of using the format() function\n",
    "# the : tells format() that we will be specifing a format\n",
    "# the 0 signals that we want to pad the number with a 0\n",
    "# the .2 signals that we want 2 digits of precision past the decimal and to get rid of the rest\n",
    "# the f signals that we want to display a fixed point number\n",
    "\n",
    "output_file.write('The percentage of white people in my sample that live at least one half mile away from the supermarket is {:0.2f}%.\\n'.format(white_half_percent))\n",
    "output_file.write('The percentage of white people in my sample that live at least one mile away from the supermarket is {:0.2f}%.\\n'.format(white_one_percent))\n",
    "output_file.write('The percentage of white people in my sample that live at least ten miles away from the supermarket is {:0.2f}%.\\n'.format(white_ten_percent))\n",
    "\n",
    "# closing the file we wrote in\n",
    "\n",
    "output_file.close()"
   ]
  },
  {
   "cell_type": "code",
   "execution_count": null,
   "metadata": {},
   "outputs": [],
   "source": []
  }
 ],
 "metadata": {
  "kernelspec": {
   "display_name": "Python 3",
   "language": "python",
   "name": "python3"
  },
  "language_info": {
   "codemirror_mode": {
    "name": "ipython",
    "version": 3
   },
   "file_extension": ".py",
   "mimetype": "text/x-python",
   "name": "python",
   "nbconvert_exporter": "python",
   "pygments_lexer": "ipython3",
   "version": "3.7.5"
  }
 },
 "nbformat": 4,
 "nbformat_minor": 2
}
