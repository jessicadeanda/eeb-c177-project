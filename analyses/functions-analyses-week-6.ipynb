{
 "cells": [
  {
   "cell_type": "markdown",
   "metadata": {},
   "source": [
    "# Part 1: "
   ]
  },
  {
   "cell_type": "markdown",
   "metadata": {},
   "source": [
    "## Extraction Function"
   ]
  },
  {
   "cell_type": "code",
   "execution_count": 155,
   "metadata": {},
   "outputs": [],
   "source": [
    "# importing needed modules\n",
    "\n",
    "import pandas\n",
    "import numpy\n",
    "import matplotlib.pyplot as plt\n",
    "\n",
    "# define function that will take csv file and change it to a numpy array\n",
    "# uses both the pandas module\n",
    "# takes argument of the csv file in question\n",
    "\n",
    "def numpydata_from_csv(csv_file):\n",
    "    tmp_data = pandas.read_csv(csv_file, header =None) \n",
    "    data = tmp_data.to_numpy()\n",
    "    return data\n",
    "\n",
    "# declare a variable \"data\" that will use numpydata_from_csv so we can analyse it later\n",
    "\n",
    "data = numpydata_from_csv('food_access_data.csv')"
   ]
  },
  {
   "cell_type": "markdown",
   "metadata": {},
   "source": [
    "## Analysis Functions"
   ]
  },
  {
   "cell_type": "code",
   "execution_count": null,
   "metadata": {},
   "outputs": [],
   "source": [
    "# define functions that will take raw data output useful, post analysis information\n",
    "\n",
    "# define a function that will output the percentage of a certain race that lives at least a half mile away\n",
    "# from a supermarket\n",
    "# the function takes inputs, in the order, the data, the column in the data that is the total number of a\n",
    "# certain race, and the column in the data that is the total number of a race living at least 1/2 mile away\n",
    "# from a supermarket\n",
    "\n",
    "def race_half_mile_percent(input_data, total_number_column, past_half_mile_column):\n",
    "    race_half_mile_total = numpy.sum(input_data[0:,past_half_mile_column])\n",
    "    race_total = numpy.sum(input_data[0:,total_number_column])\n",
    "    percentage = race_half_mile_total/race_total*100\n",
    "    return percentage\n",
    "\n",
    "# define a function that has similar functionality to the one above\n",
    "# this function determines the percentage of a race that lives at least one mile away from a supermarket\n",
    "# pass this function the column of the one mile away data instead of the 1/2 mile away data\n",
    "\n",
    "def race_one_mile_percent(input_data, total_number_column, past_one_mile_column):\n",
    "    race_one_mile_total = numpy.sum(input_data[0:,past_one_mile_column])\n",
    "    race_total = numpy.sum(input_data[0:,total_number_column])\n",
    "    percentage = race_one_mile_total/race_total*100\n",
    "    return percentage\n",
    "\n",
    "# define a function that has similar functionality to the one above\n",
    "# this function determines the percentage of a race that lives at least ten miles away from a supermarket\n",
    "# pass this function the column of the one mile away data instead of the one mile away data\n",
    "\n",
    "def race_ten_mile_percent(input_data, total_number_column, past_ten_mile_column):\n",
    "    race_ten_mile_total = numpy.sum(input_data[0:,past_ten_mile_column])\n",
    "    race_total = numpy.sum(input_data[0:,total_number_column])\n",
    "    percentage = race_ten_mile_total/race_total*100\n",
    "    return percentage"
   ]
  },
  {
   "cell_type": "markdown",
   "metadata": {},
   "source": [
    "# Visualization Function"
   ]
  },
  {
   "cell_type": "code",
   "execution_count": null,
   "metadata": {},
   "outputs": [],
   "source": [
    "# define function to plot data\n",
    "# the function takes input of, in order, the race name, the race's half mile percentage, the race's one mile\n",
    "# percentage, and the race's ten mile percentage\n",
    "# these inputs can be easily generated using the analysis functions\n",
    "\n",
    "def plot_race_percentage_versus_distance(name, half, one, ten):\n",
    "    plt.plot([0.5, 1, 10],[half, one, ten])\n",
    "    plt.axis([0, 12, 0, 100])\n",
    "    plt.xlabel('Distance from Supermarket (Miles)')\n",
    "    plt.ylabel('Percentage')\n",
    "    plt.title('Percentage of %s race living at x distance from supermarket' % name)\n",
    "    plt.show()\n",
    "    return\n",
    "\n",
    "    \n",
    "#test zone\n",
    "\n",
    "white_half_percent = race_half_mile_percent(data, 34, 5)\n",
    "white_one_percent = race_one_mile_percent(data, 34, 15)\n",
    "white_ten_percent = race_ten_mile_percent(data, 34, 25)\n",
    "\n",
    "#uncomment below for plot output\n",
    "#plot_race_percentage_versus_distance('white', white_half_percent, white_one_percent, white_ten_percent)\n",
    "\n",
    "#Part 2\n",
    "\n",
    "import csv\n",
    "\n",
    "#with open('food_access_data.csv', mode = 'r', encoding = 'utf-8-sig') as csvfile:\n",
    "#    reader = csv.DictReader(csvfile)\n",
    "#    occurances = 0\n",
    "#    for row in reader:\n",
    "#        occurances = occurances + 1\n",
    "#    print(occurances) \n",
    "        \n",
    "with open('food_access_data.csv', mode = 'r', encoding = 'utf-8-sig') as csvfile:\n",
    "    reader = csv.DictReader(csvfile)\n",
    "    total_white = 1622\n",
    "    for row in reader:\n",
    "        total_white = total_white + int(row['1622'])\n",
    "    print(total_white)\n",
    "    \n",
    "print(numpy.sum(data[0:,34]))\n",
    "        \n",
    "#Part 3\n",
    "\n",
    "output_file = open('output_f1.txt','w+')\n",
    "\n",
    "output_file.write('The total number of white people that are in my sample is {}.\\n'.format(total_white))\n",
    "output_file.write('The percentage of white people in my sample that live at least one half mile away from the supermarket is {:0.2f}%.\\n'.format(white_half_percent))\n",
    "output_file.write('The percentage of white people in my sample that live at least one mile away from the supermarket is {:0.2f}%.\\n'.format(white_one_percent))\n",
    "output_file.write('The percentage of white people in my sample that live at least ten miles away from the supermarket is {:0.2f}%.\\n'.format(white_ten_percent))\n",
    "\n",
    "output_file.close()"
   ]
  }
 ],
 "metadata": {
  "kernelspec": {
   "display_name": "Python 3",
   "language": "python",
   "name": "python3"
  },
  "language_info": {
   "codemirror_mode": {
    "name": "ipython",
    "version": 3
   },
   "file_extension": ".py",
   "mimetype": "text/x-python",
   "name": "python",
   "nbconvert_exporter": "python",
   "pygments_lexer": "ipython3",
   "version": "3.7.5"
  }
 },
 "nbformat": 4,
 "nbformat_minor": 2
}
