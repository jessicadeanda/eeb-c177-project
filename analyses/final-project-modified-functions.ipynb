{
 "cells": [
  {
   "cell_type": "markdown",
   "metadata": {},
   "source": [
    "# Final Project Assignment \n",
    "\n",
    "#### Due Sunday 2/23 at 11:59pm\n",
    "\n",
    "### This code was transferred to the python script percentages-per-race.py\n",
    "\n",
    "##### This is a modification of week-six analysis and week-four preliminary anaysis; received guidance from Wing Hui on week-six assignment. modified code with guidance from Mark Geha. \n",
    "\n",
    "## Importing my csv file and the necessary libraries"
   ]
  },
  {
   "cell_type": "code",
   "execution_count": 33,
   "metadata": {},
   "outputs": [],
   "source": [
    "import pandas\n",
    "# need pandas to import dataset\n",
    "import numpy\n",
    "# need numpy for numerical analysis\n",
    "import matplotlib.pyplot as plt\n",
    "# need matplotlib.pyplot to plot data; visual representation of data\n",
    "import csv\n",
    "# need csv for file reading and writing\n",
    "\n",
    "def np_from_csv(csv_file):\n",
    "    temp_data = pandas.read_csv(csv_file, header = None)\n",
    "    data = temp_data.to_numpy()\n",
    "    return data\n",
    "# this function imports a csv file as pandas and change it to a numpy array\n",
    "# 'header = None': https://pandas.pydata.org/pandas-docs/stable/reference/api/pandas.read_csv.html"
   ]
  },
  {
   "cell_type": "code",
   "execution_count": 34,
   "metadata": {
    "scrolled": false
   },
   "outputs": [],
   "source": [
    "data = np_from_csv('food_access_data.csv')\n",
    "# imported my food access csv file as pandas, converted it to numpy, and saved it as data"
   ]
  },
  {
   "cell_type": "markdown",
   "metadata": {},
   "source": [
    "## Assigning headers to the columns in the dataset"
   ]
  },
  {
   "cell_type": "code",
   "execution_count": 76,
   "metadata": {},
   "outputs": [],
   "source": [
    "# variable name = column # corresponding to the variable in the dataset\n",
    "\n",
    "# Total population counts per race\n",
    "white_total = 43\n",
    "black_total = 44 \n",
    "asian_total = 45\n",
    "islander_total = 46\n",
    "native_total = 47\n",
    "other_total = 48\n",
    "latino_total = 49\n",
    "\n",
    "# Population count living 1/2 mile beyond a supermarket per race\n",
    "white_half = 8\n",
    "black_half = 9\n",
    "asian_half = 10\n",
    "islander_half = 11\n",
    "native_half = 12\n",
    "other_half = 13\n",
    "latino_half = 14\n",
    "\n",
    "# Population count living 1 mile beyond a supermarket per race\n",
    "white_1 = 17\n",
    "black_1 = 18\n",
    "asian_1 = 19\n",
    "islander_1 = 20\n",
    "native_1 = 21\n",
    "other_1 = 22\n",
    "latino_1 = 23\n",
    "\n",
    "# Population count living 10 miles beyond a supermarket per race\n",
    "white_10 = 26\n",
    "black_10 = 27\n",
    "asian_10 = 28\n",
    "islander_10 = 29\n",
    "native_10 = 30\n",
    "other_10 = 31\n",
    "latino_10 = 32\n",
    "\n",
    "# Population count living 20 miles beyond a supermarket per race\n",
    "white_20 = 35\n",
    "black_20 = 36\n",
    "asian_20 = 37\n",
    "islander_20 = 38\n",
    "native_20 = 39\n",
    "other_20 = 40\n",
    "latino_20 = 41"
   ]
  },
  {
   "cell_type": "markdown",
   "metadata": {},
   "source": [
    "## Analysis Function: Percent Population at Distance from Supermarket per Race\n",
    "\n",
    "Since the ultimate goal is to compare food access between racial groups in the United States, the following functions will calculate the percentage of individuals of a defined race living a certain distance away from a supermarket."
   ]
  },
  {
   "cell_type": "code",
   "execution_count": 77,
   "metadata": {},
   "outputs": [],
   "source": [
    "# MODIFICATIONS: \n",
    "# in the past assignment, each distance for the supermarket (1/2, 1, 10, 20) had its own function\n",
    "# the function below consolidates the functions into one\n",
    "# the defined fuction also rounds the calculated percentage and sets a default value of 2 decimal places\n",
    "\n",
    "def percent_race_at_distance(input_data, race_distance, race_total, dec = 2):\n",
    "    race_distance_sum = numpy.sum(input_data[:, race_distance])\n",
    "    race_total_sum = numpy.sum(input_data[:, race_total])\n",
    "    # 'numpy.sum' is a functionality that adds up all values in the specified column\n",
    "    # inside the parentheses, the format is: dataset_imported[rows, columns]\n",
    "    # I want all rows ':' and the column corresponding to the variable specified in the first line of the function\n",
    "    percentage = race_distance_sum/race_total_sum * 100\n",
    "    return round(percentage, dec)\n",
    "    # 'round' will round the final value"
   ]
  },
  {
   "cell_type": "code",
   "execution_count": 78,
   "metadata": {},
   "outputs": [
    {
     "name": "stdout",
     "output_type": "stream",
     "text": [
      "74.1 % of the white population lives beyond 1/2 mile of the supermarket\n"
     ]
    }
   ],
   "source": [
    "percent_white_half = percent_race_at_distance(data, white_half, white_total, 1)\n",
    "print(percent_white_half, '% of the white population lives beyond 1/2 mile of the supermarket')"
   ]
  },
  {
   "cell_type": "markdown",
   "metadata": {},
   "source": [
    "## Visualization Function: Percentage of Race Living at Distance from Supermarket VS Distance from Supermarket"
   ]
  },
  {
   "cell_type": "code",
   "execution_count": 95,
   "metadata": {},
   "outputs": [],
   "source": [
    "# the function takes input of the race name and the percentages of the race at 4 distances\n",
    "# these inputs correspond to the percentage function\n",
    "\n",
    "def plot_race_percentage_vs_distance(race, perc):\n",
    "    [half,one,ten,twenty] = perc\n",
    "    # the line above will be used eventually in a for loop that takes percentage outputs per race\n",
    "    plt.plot([0.5, 1, 10, 20],[half, one, ten, twenty])\n",
    "    # plots distance values vs percentages \n",
    "    plt.axis([0, 20, 0, 100])\n",
    "    # sets x-axis (0, 20) and y-axis (1, 100)\n",
    "    plt.xlabel('Distance from Supermarket (Miles)')\n",
    "    # labels the x-axis\n",
    "    plt.ylabel('Percentage')\n",
    "    # labels the y-axis\n",
    "    plt.title('Percentage of', race, 'Population Living at a Distance from a Supermarket')\n",
    "    # sets axis title\n",
    "    # '%s' ... '% race' was used in the week six assignment as suggested by Wing Hui, but this is the format that \n",
    "    # we typically use in class\n",
    "    # either way, there are multiple ways to do this! %s imports the string\n",
    "    return"
   ]
  },
  {
   "cell_type": "markdown",
   "metadata": {},
   "source": [
    "## Making the Analysis and Visualization Functions More Robust\n",
    "\n",
    "As of right now, I would have to manually run the defined function for each of the seven racial categories and each of the four distances per race. The modified function below streamlines this process. Received help from Mark Geha."
   ]
  },
  {
   "cell_type": "code",
   "execution_count": 118,
   "metadata": {},
   "outputs": [],
   "source": [
    "total = [white_total, black_total, asian_total, islander_total, native_total, other_total, latino_total]\n",
    "# earlier in the code, I defined each of the variables in this list\n",
    "# these totals will eventually be pulled by the function\n",
    "\n",
    "distance = [[white_half, white_1, white_10, white_20], \n",
    "            [black_half, black_1, black_10, black_20], \n",
    "            [asian_half, asian_1, asian_10, asian_20], \n",
    "            [islander_half, islander_1, islander_10, islander_20], \n",
    "            [native_half, native_1, native_10, native_20], \n",
    "            [other_half, other_1, other_10, other_20], \n",
    "            [latino_half, latino_1, latino_10, latino_20]]\n",
    "# these variables were also defined earlier in the code (each is a column in the dataset)\n",
    "# since there are four distances per race for a total of seven racial categories, I made an 7x4 2D array \n",
    "\n",
    "name = ['White', 'Black', 'Asian', 'Islander', 'Native', 'Other', 'Latino']\n",
    "# list of the racial group categories\n",
    "\n",
    "num_races = len(total)\n",
    "# the number of races in the data set, which equals the length of the list 'total' \n",
    "\n",
    "num_dist = 4\n",
    "# there are four distances\n",
    "\n",
    "perc = numpy.zeros((num_races,num_dist))\n",
    "# this is very similar to when we open an empty list before a for loop to add (append) stuff later\n",
    "# BUT it will create an empty 7x4 2D array because it has an array with 4 distance entries for each of the 7 races\n",
    "# learned this from Mark Geha; https://www.geeksforgeeks.org/numpy-zeros-python/"
   ]
  },
  {
   "cell_type": "code",
   "execution_count": 127,
   "metadata": {},
   "outputs": [
    {
     "data": {
      "image/png": "[encoded data removed]",
      "text/plain": [
       "<Figure size 432x288 with 1 Axes>"
      ]
     },
     "metadata": {
      "needs_background": "light"
     },
     "output_type": "display_data"
    }
   ],
   "source": [
    "for race in range(num_races):\n",
    "# this line says that the following for loop will run 7 times \n",
    "# because there are 7 races and it will run once per race\n",
    "    for dist in range(num_dist):\n",
    "    # within the for loop (i.e. for each race), the next set of code will run 4 times\n",
    "    # because it will run for each of the 4 distances per race\n",
    "        perc[race][dist] = percent_race_at_distance(data, distance[race][dist], total[race], 2)\n",
    "        # this will add items to the empty 2D array \n",
    "        # the items will correspond to the output of the function that was defined to calculate percentages\n",
    "        # USE BRACKETS BECAUSE WERE ARE PULLING FROM AND ADDING TO ARRAYS\n",
    "    plot_race_percentage_vs_distance(name[race], perc[race])\n",
    "    # this will now take the new array made from the output of the percentage function\n",
    "    # and put it into the plotting function defined earlier\n",
    "    # it will pull a race from the list 'name'\n",
    "    # and pull an array of percents per race --> it will run each percentage at a time\n",
    "    # RECALL [half,one,ten,twenty] = perc\n",
    "\n",
    "plt.legend(name)\n",
    "# the next line of code will overlay the plots, so we need a legend \n",
    "# the legent pulls the names from the list 'name', which has the racial categories\n",
    "plt.show()\n",
    "# taking the plt.show line of code outside of the loop will no longer show the plots one by one\n",
    "# instead it will overlay them to allow for clear comparison between groups!!! :) "
   ]
  },
  {
   "cell_type": "markdown",
   "metadata": {},
   "source": [
    "## Reading a File"
   ]
  },
  {
   "cell_type": "code",
   "execution_count": 116,
   "metadata": {},
   "outputs": [
    {
     "name": "stdout",
     "output_type": "stream",
     "text": [
      "we have 72863 occurences of values to a key.\n",
      "\n",
      "The total white population in my data according to DictReader is 223553265.\n",
      "\n",
      "The total white population in my data according to np.sum is 223553265.\n",
      "\n"
     ]
    }
   ],
   "source": [
    "# the open function opens the data csv \n",
    "# the csv.DictReader gets an ordered dictionary\n",
    "# we iterate our dictionary to find how many occurrences we have of a given key having values assigned\n",
    "\n",
    "with open('food_access_data.csv', mode = 'r', encoding = 'utf-8-sig') as csvfile:\n",
    "    reader = csv.DictReader(csvfile)\n",
    "    occurences = 0\n",
    "    for row in reader:\n",
    "        occurences = occurences + 1\n",
    "    print('we have {} occurences of values to a key.\\n'.format(occurences))\n",
    "    # {} takes the output corresponding to the number of occurences\n",
    "    # \\n adds a blank line to the code\n",
    "    # MODIFICATION: cleaned up the statements  \n",
    "        \n",
    "# DictReader makes an ordered dictionary and adds up the values for a given key\n",
    "# this will give us the total polled population of a race\n",
    "# MODIFICATION: I did not have headings for the data in the week six assignment\n",
    "# BUT now, I have named all columns\n",
    "\n",
    "with open('food_access_data.csv', mode = 'r', encoding = 'utf-8-sig') as csvfile:\n",
    "    reader = csv.DictReader(csvfile)\n",
    "    total_white = 1622\n",
    "    for row in reader:\n",
    "        total_white = total_white + int(row['1622'])\n",
    "    print('The total white population in my data according to DictReader is {}.\\n'.format(total_white))\n",
    "    \n",
    "# comparison of my results from DictReader numpy's sum function\n",
    "\n",
    "print(\"The total white population in my data according to np.sum is {:0.0f}.\\n\".format(numpy.sum(data[:, 43])))"
   ]
  },
  {
   "cell_type": "markdown",
   "metadata": {},
   "source": [
    "## Writing a File"
   ]
  },
  {
   "cell_type": "code",
   "execution_count": null,
   "metadata": {},
   "outputs": [],
   "source": [
    "# declare a variable output_file and open a file with read and write capabilites\n",
    "\n",
    "output_file = open('final-project.txt','w+')\n",
    "\n",
    "# now we write to the file the data that we got from extraction and analysis functions and from DictReader\n",
    "# format the written content using the format() function\n",
    "\n",
    "# the use of {} in the below line signals the place where the data from format() goes\n",
    "# in our case we are filling {} with the total number of white people polled that we got from using DictReader\n",
    "\n",
    "output_file.write('The total number of white people that are in my sample is {}.\\n'.format(total_white))\n",
    "\n",
    "# our use of {:0.2f} below is another, more detailed way of using the format() function\n",
    "# the : tells format() that we will be specifing a format\n",
    "# the 0 signals that we want to pad the number with a 0\n",
    "# the .2 signals that we want 2 digits of precision past the decimal and to get rid of the rest\n",
    "# the f signals that we want to display a fixed point number\n",
    "\n",
    "output_file.write('The percentage of white people in my sample that live at least one half mile away from the supermarket is {:0.2f}%.\\n'.format(white_half_percent))\n",
    "output_file.write('The percentage of white people in my sample that live at least one mile away from the supermarket is {:0.2f}%.\\n'.format(white_one_percent))\n",
    "output_file.write('The percentage of white people in my sample that live at least ten miles away from the supermarket is {:0.2f}%.\\n'.format(white_ten_percent))\n",
    "\n",
    "# closing the file we wrote in\n",
    "\n",
    "output_file.close()"
   ]
  },
  {
   "cell_type": "code",
   "execution_count": 120,
   "metadata": {},
   "outputs": [
    {
     "ename": "TypeError",
     "evalue": "write() takes exactly one argument (4 given)",
     "output_type": "error",
     "traceback": [
      "\u001b[0;31m---------------------------------------------------------------------------\u001b[0m",
      "\u001b[0;31mTypeError\u001b[0m                                 Traceback (most recent call last)",
      "\u001b[0;32m<ipython-input-120-6323590213b7>\u001b[0m in \u001b[0;36m<module>\u001b[0;34m\u001b[0m\n\u001b[1;32m      8\u001b[0m     \u001b[0;32mfor\u001b[0m \u001b[0mdist\u001b[0m \u001b[0;32min\u001b[0m \u001b[0mrange\u001b[0m\u001b[0;34m(\u001b[0m\u001b[0mnum_dist\u001b[0m\u001b[0;34m)\u001b[0m\u001b[0;34m:\u001b[0m\u001b[0;34m\u001b[0m\u001b[0;34m\u001b[0m\u001b[0m\n\u001b[1;32m      9\u001b[0m         \u001b[0mperc\u001b[0m\u001b[0;34m[\u001b[0m\u001b[0mrace\u001b[0m\u001b[0;34m]\u001b[0m\u001b[0;34m[\u001b[0m\u001b[0mdist\u001b[0m\u001b[0;34m]\u001b[0m \u001b[0;34m=\u001b[0m \u001b[0mpercent_race_at_distance\u001b[0m\u001b[0;34m(\u001b[0m\u001b[0mdata\u001b[0m\u001b[0;34m,\u001b[0m \u001b[0mdistance\u001b[0m\u001b[0;34m[\u001b[0m\u001b[0mrace\u001b[0m\u001b[0;34m]\u001b[0m\u001b[0;34m[\u001b[0m\u001b[0mdist\u001b[0m\u001b[0;34m]\u001b[0m\u001b[0;34m,\u001b[0m \u001b[0mtotal\u001b[0m\u001b[0;34m[\u001b[0m\u001b[0mrace\u001b[0m\u001b[0;34m]\u001b[0m\u001b[0;34m,\u001b[0m \u001b[0;36m2\u001b[0m\u001b[0;34m)\u001b[0m\u001b[0;34m\u001b[0m\u001b[0;34m\u001b[0m\u001b[0m\n\u001b[0;32m---> 10\u001b[0;31m     \u001b[0mwrite_percent_in_file\u001b[0m\u001b[0;34m(\u001b[0m\u001b[0mname\u001b[0m\u001b[0;34m[\u001b[0m\u001b[0mrace\u001b[0m\u001b[0;34m]\u001b[0m\u001b[0;34m,\u001b[0m \u001b[0mperc\u001b[0m\u001b[0;34m[\u001b[0m\u001b[0mrace\u001b[0m\u001b[0;34m]\u001b[0m\u001b[0;34m)\u001b[0m\u001b[0;34m\u001b[0m\u001b[0;34m\u001b[0m\u001b[0m\n\u001b[0m",
      "\u001b[0;32m<ipython-input-120-6323590213b7>\u001b[0m in \u001b[0;36mwrite_percent_in_file\u001b[0;34m(race, perc)\u001b[0m\n\u001b[1;32m      3\u001b[0m \u001b[0;32mdef\u001b[0m \u001b[0mwrite_percent_in_file\u001b[0m\u001b[0;34m(\u001b[0m\u001b[0mrace\u001b[0m\u001b[0;34m,\u001b[0m \u001b[0mperc\u001b[0m\u001b[0;34m)\u001b[0m\u001b[0;34m:\u001b[0m\u001b[0;34m\u001b[0m\u001b[0;34m\u001b[0m\u001b[0m\n\u001b[1;32m      4\u001b[0m     \u001b[0;34m[\u001b[0m\u001b[0mhalf\u001b[0m\u001b[0;34m,\u001b[0m\u001b[0mone\u001b[0m\u001b[0;34m,\u001b[0m\u001b[0mten\u001b[0m\u001b[0;34m,\u001b[0m\u001b[0mtwenty\u001b[0m\u001b[0;34m]\u001b[0m \u001b[0;34m=\u001b[0m \u001b[0mperc\u001b[0m\u001b[0;34m\u001b[0m\u001b[0;34m\u001b[0m\u001b[0m\n\u001b[0;32m----> 5\u001b[0;31m     \u001b[0moutput_file\u001b[0m\u001b[0;34m.\u001b[0m\u001b[0mwrite\u001b[0m\u001b[0;34m(\u001b[0m\u001b[0;34m'Percentages corresponding to'\u001b[0m\u001b[0;34m,\u001b[0m \u001b[0mrace\u001b[0m\u001b[0;34m,\u001b[0m \u001b[0;34m':'\u001b[0m\u001b[0;34m,\u001b[0m \u001b[0mperc\u001b[0m\u001b[0;34m)\u001b[0m\u001b[0;34m\u001b[0m\u001b[0;34m\u001b[0m\u001b[0m\n\u001b[0m\u001b[1;32m      6\u001b[0m \u001b[0;34m\u001b[0m\u001b[0m\n\u001b[1;32m      7\u001b[0m \u001b[0;32mfor\u001b[0m \u001b[0mrace\u001b[0m \u001b[0;32min\u001b[0m \u001b[0mrange\u001b[0m\u001b[0;34m(\u001b[0m\u001b[0mnum_races\u001b[0m\u001b[0;34m)\u001b[0m\u001b[0;34m:\u001b[0m\u001b[0;34m\u001b[0m\u001b[0;34m\u001b[0m\u001b[0m\n",
      "\u001b[0;31mTypeError\u001b[0m: write() takes exactly one argument (4 given)"
     ]
    }
   ],
   "source": [
    "output_file = open('final-project.txt','w+')\n",
    "\n",
    "def write_percent_in_file(race, perc):\n",
    "    [half,one,ten,twenty] = perc\n",
    "    output_file.write('Percentages corresponding to', race, ':', perc)\n",
    "    \n",
    "for race in range(num_races):\n",
    "    for dist in range(num_dist):\n",
    "        perc[race][dist] = percent_race_at_distance(data, distance[race][dist], total[race], 2)\n",
    "    write_percent_in_file(name[race], perc[race])\n",
    "    \n",
    "# I tried ¯\\_(ツ)_/¯"
   ]
  },
  {
   "cell_type": "code",
   "execution_count": 126,
   "metadata": {},
   "outputs": [
    {
     "name": "stdout",
     "output_type": "stream",
     "text": [
      "62.6\n"
     ]
    }
   ],
   "source": [
    "for race in range(num_races):\n",
    "    for dist in range(num_dist):\n",
    "        perc[race][dist] = percent_race_at_distance(data, distance[race][dist], total[race], 2)\n",
    "print(perc[1,0])\n",
    "#    output_file.write()"
   ]
  },
  {
   "cell_type": "markdown",
   "metadata": {},
   "source": [
    "## Assert Condition\n",
    "\n",
    "Assertion statements can be used to spot check your code. You can calculate the value that a function is supposed to calculate and assert that the value calculated by the function/saved to a variable will equal this value. If the statement is correct (which it should be) there will be no error. If this statement is not correct, you will get an error message, meaning that your code is not calculating the value correctly (or something else is wrong with your code). \n",
    "\n",
    "This can be used for all lines of the function/code so that you know exactly where the code went wrong and you can debug it. I would start from the bottom up... if the final statement is correct, then the beginning portion of you code is likely correct too.\n",
    "\n",
    "https://www.programiz.com/python-programming/assert-statement"
   ]
  },
  {
   "cell_type": "code",
   "execution_count": 101,
   "metadata": {},
   "outputs": [
    {
     "name": "stdout",
     "output_type": "stream",
     "text": [
      "74.12\n"
     ]
    }
   ],
   "source": [
    "print(perc[0,0])"
   ]
  },
  {
   "cell_type": "code",
   "execution_count": 103,
   "metadata": {},
   "outputs": [
    {
     "ename": "AssertionError",
     "evalue": "",
     "output_type": "error",
     "traceback": [
      "\u001b[0;31m---------------------------------------------------------------------------\u001b[0m",
      "\u001b[0;31mAssertionError\u001b[0m                            Traceback (most recent call last)",
      "\u001b[0;32m<ipython-input-103-72daacaacc68>\u001b[0m in \u001b[0;36m<module>\u001b[0;34m\u001b[0m\n\u001b[0;32m----> 1\u001b[0;31m \u001b[0;32massert\u001b[0m \u001b[0mperc\u001b[0m\u001b[0;34m[\u001b[0m\u001b[0;36m0\u001b[0m\u001b[0;34m,\u001b[0m\u001b[0;36m0\u001b[0m\u001b[0;34m]\u001b[0m \u001b[0;34m==\u001b[0m \u001b[0;36m50\u001b[0m\u001b[0;34m\u001b[0m\u001b[0;34m\u001b[0m\u001b[0m\n\u001b[0m",
      "\u001b[0;31mAssertionError\u001b[0m: "
     ]
    }
   ],
   "source": [
    "assert perc[0,0] == 50\n",
    "# this looks at the first entry of the array 'perc' which corresponds to percentage of white ppl 1/2 mile dist\n",
    "# the assertion error indicates that the statement that this entry = 50% is not correct\n",
    "# this makes sense because the value is actually 74%"
   ]
  },
  {
   "cell_type": "code",
   "execution_count": 104,
   "metadata": {},
   "outputs": [],
   "source": [
    "assert perc[0,0] > 70\n",
    "# this did not give me an error, which means that the statement is true\n",
    "# this is correct given that 74 > 70\n",
    "# since this val corresponds to my final calculation and it is correct, I know the beggining of my code is correct"
   ]
  },
  {
   "cell_type": "code",
   "execution_count": 105,
   "metadata": {},
   "outputs": [
    {
     "ename": "AssertionError",
     "evalue": "this value is incorrect",
     "output_type": "error",
     "traceback": [
      "\u001b[0;31m---------------------------------------------------------------------------\u001b[0m",
      "\u001b[0;31mAssertionError\u001b[0m                            Traceback (most recent call last)",
      "\u001b[0;32m<ipython-input-105-f6ad584bde02>\u001b[0m in \u001b[0;36m<module>\u001b[0;34m\u001b[0m\n\u001b[0;32m----> 1\u001b[0;31m \u001b[0;32massert\u001b[0m \u001b[0mperc\u001b[0m\u001b[0;34m[\u001b[0m\u001b[0;36m0\u001b[0m\u001b[0;34m,\u001b[0m\u001b[0;36m0\u001b[0m\u001b[0;34m]\u001b[0m \u001b[0;34m<\u001b[0m \u001b[0;36m70\u001b[0m\u001b[0;34m,\u001b[0m \u001b[0;34m\"this value is incorrect\"\u001b[0m\u001b[0;34m\u001b[0m\u001b[0;34m\u001b[0m\u001b[0m\n\u001b[0m",
      "\u001b[0;31mAssertionError\u001b[0m: this value is incorrect"
     ]
    }
   ],
   "source": [
    "assert perc[0,0] < 70, \"this value is incorrect\"\n",
    "# the assertion error now says \"this value is incorrect\" because I specified a message"
   ]
  },
  {
   "cell_type": "code",
   "execution_count": 106,
   "metadata": {},
   "outputs": [],
   "source": [
    "assert perc[0,0] > 70, \"this value is incorrect\"\n",
    "# IF this had been a false statement, which is not, it would have said the message I specified\n",
    "# everything is fine, so the code will continue"
   ]
  },
  {
   "cell_type": "code",
   "execution_count": null,
   "metadata": {},
   "outputs": [],
   "source": []
  }
 ],
 "metadata": {
  "kernelspec": {
   "display_name": "Python 3",
   "language": "python",
   "name": "python3"
  },
  "language_info": {
   "codemirror_mode": {
    "name": "ipython",
    "version": 3
   },
   "file_extension": ".py",
   "mimetype": "text/x-python",
   "name": "python",
   "nbconvert_exporter": "python",
   "pygments_lexer": "ipython3",
   "version": "3.7.5"
  }
 },
 "nbformat": 4,
 "nbformat_minor": 2
}
