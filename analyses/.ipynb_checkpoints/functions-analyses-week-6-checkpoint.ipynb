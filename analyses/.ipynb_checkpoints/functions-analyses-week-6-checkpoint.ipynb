{
 "cells": [
  {
   "cell_type": "markdown",
   "metadata": {},
   "source": [
    "## Part 1: \n",
    "    \n",
    "#### Extraction Function"
   ]
  },
  {
   "cell_type": "code",
   "execution_count": 82,
   "metadata": {},
   "outputs": [
    {
     "data": {
      "image/png": "[encoded data removed]",
      "text/plain": [
       "<Figure size 432x288 with 1 Axes>"
      ]
     },
     "metadata": {
      "needs_background": "light"
     },
     "output_type": "display_data"
    }
   ],
   "source": [
    "import pandas\n",
    "import numpy\n",
    "import matplotlib.pyplot as plt\n",
    "\n",
    "#data extraction\n",
    "\n",
    "#this fct will give the numpydata array from csv using a panda function because the csv cannot be\n",
    "#directly converted from the input csv file\n",
    "def numpydata_from_csv(csv_file):\n",
    "    tmp_data = pandas.read_csv(csv_file, header =None) \n",
    "    data = tmp_data.to_numpy()\n",
    "    #change from panda to numpy\n",
    "    return data\n",
    "\n",
    "data = numpydata_from_csv('food_access_data.csv')\n",
    "\n",
    "#data extraction and analysis\n",
    "\n",
    "#this fct will give the percentage of the race that lives beyond 1/2 mile from the supermarket\n",
    "#must input the numpy array, the column numbers from the original csv that correspond to the total # of a race and \n",
    "#the # of the race that is more than a half mile from the supermarket\n",
    "#the input order must be csvfirst, then total number, and then # of the race beyond a 1/2 mile second\n",
    "def race_half_mile_percent(input_data, total_number_column, past_half_mile_column):\n",
    "    race_half_mile_total = numpy.sum(input_data[0:,past_half_mile_column])\n",
    "    race_total = numpy.sum(input_data[0:,total_number_column])\n",
    "    percentage = race_half_mile_total/race_total*100\n",
    "    return percentage\n",
    "\n",
    "def race_one_mile_percent(input_data, total_number_column, past_one_mile_column):\n",
    "    race_one_mile_total = numpy.sum(input_data[0:,past_one_mile_column])\n",
    "    race_total = numpy.sum(input_data[0:,total_number_column])\n",
    "    percentage = race_one_mile_total/race_total*100\n",
    "    return percentage\n",
    "\n",
    "def race_ten_mile_percent(input_data, total_number_column, past_ten_mile_column):\n",
    "    race_ten_mile_total = numpy.sum(input_data[0:,past_ten_mile_column])\n",
    "    race_total = numpy.sum(input_data[0:,total_number_column])\n",
    "    percentage = race_ten_mile_total/race_total*100\n",
    "    return percentage\n",
    "\n",
    "#data visualization\n",
    "\n",
    "#this function will plot the percentage of a race versus how far away they are from the market\n",
    "#the arguments are the race name (must be as a string), half mile percent, one mile percent\n",
    "# and ten mile percent in that order\n",
    "def plot_race_percentage_versus_distance(name, half, one, ten):\n",
    "    plt.plot([0.5, 1, 10],[half, one, ten])\n",
    "    plt.axis([0, 12, 0, 100])\n",
    "    plt.xlabel('Distance from Supermarket (Miles)')\n",
    "    plt.ylabel('Percentage')\n",
    "    plt.title('Percentage of %s race living at x distance from supermarket' % name)\n",
    "    plt.show()\n",
    "    return\n",
    "\n",
    "    \n",
    "#test zone\n",
    "\n",
    "white_half_percent = race_half_mile_percent(data, 34, 5)\n",
    "white_one_percent = race_one_mile_percent(data, 34, 15)\n",
    "white_ten_percent = race_ten_mile_percent(data, 34, 25)\n",
    "\n",
    "#uncomment below for plot output\n",
    "plot_race_percentage_versus_distance('white', white_half_percent, white_one_percent, white_ten_percent)\n",
    "\n",
    "#Part 2\n",
    "\n"
   ]
  },
  {
   "cell_type": "code",
   "execution_count": null,
   "metadata": {},
   "outputs": [],
   "source": []
  }
 ],
 "metadata": {
  "kernelspec": {
   "display_name": "Python 3",
   "language": "python",
   "name": "python3"
  },
  "language_info": {
   "codemirror_mode": {
    "name": "ipython",
    "version": 3
   },
   "file_extension": ".py",
   "mimetype": "text/x-python",
   "name": "python",
   "nbconvert_exporter": "python",
   "pygments_lexer": "ipython3",
   "version": "3.7.5"
  }
 },
 "nbformat": 4,
 "nbformat_minor": 2
}
